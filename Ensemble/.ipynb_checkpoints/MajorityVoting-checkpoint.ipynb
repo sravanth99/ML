{
 "cells": [
  {
   "cell_type": "code",
   "execution_count": 2,
   "metadata": {},
   "outputs": [],
   "source": [
    "# Helper classes and data\n",
    "from sklearn import datasets\n",
    "from sklearn.model_selection import train_test_split as tts\n",
    "from sklearn.preprocessing import StandardScaler\n",
    "from sklearn.preprocessing import LabelEncoder\n",
    "from sklearn.ensemble import VotingClassifier"
   ]
  },
  {
   "cell_type": "code",
   "execution_count": 3,
   "metadata": {},
   "outputs": [],
   "source": [
    "Iris_data = datasets.load_iris()"
   ]
  },
  {
   "cell_type": "code",
   "execution_count": 11,
   "metadata": {},
   "outputs": [
    {
     "name": "stdout",
     "output_type": "stream",
     "text": [
      "(150, 4)\n"
     ]
    }
   ],
   "source": [
    "X, y = Iris_data.data, Iris_data.target\n",
    "print(X.shape)"
   ]
  },
  {
   "cell_type": "code",
   "execution_count": 24,
   "metadata": {},
   "outputs": [],
   "source": [
    "lenc  =LabelEncoder()\n",
    "y = lenc.fit_transform(y)"
   ]
  },
  {
   "cell_type": "code",
   "execution_count": 25,
   "metadata": {},
   "outputs": [],
   "source": [
    "X_train,X_test,y_train,y_test = tts(X,y,stratify = y,test_size=0.3,random_state=1)"
   ]
  },
  {
   "cell_type": "code",
   "execution_count": 26,
   "metadata": {},
   "outputs": [
    {
     "data": {
      "text/plain": [
       "(105, 4)"
      ]
     },
     "execution_count": 26,
     "metadata": {},
     "output_type": "execute_result"
    }
   ],
   "source": [
    "X_train.shape"
   ]
  },
  {
   "cell_type": "code",
   "execution_count": 61,
   "metadata": {},
   "outputs": [],
   "source": [
    "# Classifiers\n",
    "from sklearn.linear_model import LogisticRegression\n",
    "from sklearn.tree import DecisionTreeClassifier\n",
    "from sklearn.svm import SVC\n",
    "from sklearn.neighbors import KNeighborsClassifier\n",
    "# Pipeline and validation\n",
    "from sklearn.pipeline import Pipeline\n",
    "from sklearn.model_selection import cross_val_score\n",
    "# numpy\n",
    "import numpy as np\n",
    "# Since it is a multiclass classification let's imports binerizerabs\n",
    "from sklearn.preprocessing import label_binarize\n",
    "from sklearn.metrics import make_scorer\n",
    "from sklearn.metrics import roc_auc_score\n",
    "y_train_bin = label_binarize(y_train,classes = [0,1,2]) \n",
    "multi_roc = make_scorer(score_func=roc_auc_score)"
   ]
  },
  {
   "cell_type": "code",
   "execution_count": 51,
   "metadata": {},
   "outputs": [],
   "source": [
    "#We have 4 classifiers here\n",
    "clf1 = LogisticRegression(penalty='l2',random_state=1,C = 0.001,solver='lbfgs')\n",
    "clf2 = DecisionTreeClassifier(random_state=1,max_depth=None,criterion='gini')\n",
    "clf3 = KNeighborsClassifier(n_neighbors=3,p=2,metric='minkowski')\n",
    "clf4 = SVC(kernel='rbf')"
   ]
  },
  {
   "cell_type": "code",
   "execution_count": 52,
   "metadata": {},
   "outputs": [],
   "source": [
    "#Pipelines\n",
    "Pipe_Log = Pipeline([\n",
    "    ['sc',StandardScaler()],\n",
    "    ['Log_Reg',clf1]\n",
    "])\n",
    "Pipe_svc = Pipeline([\n",
    "    ['sc',StandardScaler()],\n",
    "    ['svc',clf4]\n",
    "])\n",
    "Pipe_Knn = Pipeline([\n",
    "    ['sc',StandardScaler()],\n",
    "    ['knn',clf3]\n",
    "])"
   ]
  },
  {
   "cell_type": "code",
   "execution_count": 58,
   "metadata": {},
   "outputs": [
    {
     "name": "stdout",
     "output_type": "stream",
     "text": [
      "(105, 4) (105, 3)\n"
     ]
    }
   ],
   "source": [
    "clf_labels = ['Logistic Regression','Decision Tree','Knn','SVM']\n",
    "print(X_train.shape,y_train_bin.shape)"
   ]
  },
  {
   "cell_type": "code",
   "execution_count": 103,
   "metadata": {},
   "outputs": [],
   "source": [
    "scores_list = []\n",
    "for clf, label in zip([Pipe_Log,clf2,Pipe_Knn,Pipe_svc],clf_labels):\n",
    "    clf_auc =[]\n",
    "    for i in range(3):\n",
    "        scores = cross_val_score(estimator=clf,X=X_train,y=y_train_bin[:,i],scoring='roc_auc',cv=10)\n",
    "        \n",
    "        clf_auc.append((np.mean(scores,axis=0),np.std(scores,axis=0)))\n",
    "    scores_list.append(np.array(clf_auc))"
   ]
  },
  {
   "cell_type": "code",
   "execution_count": 107,
   "metadata": {},
   "outputs": [],
   "source": [
    "mean_std =[]\n",
    "for scr in scores_list:\n",
    "    mean_std.append(np.mean(scr,axis=0))"
   ]
  },
  {
   "cell_type": "code",
   "execution_count": 109,
   "metadata": {},
   "outputs": [
    {
     "name": "stdout",
     "output_type": "stream",
     "text": [
      "AUC_ROC of Logistic Regression : 0.8964285714285714 +/- 0.07472594728488739\n",
      "AUC_ROC of Decision Tree : 0.9462301587301588 +/- 0.04926907133014047\n",
      "AUC_ROC of Knn : 0.9880952380952381 +/- 0.02722959229377937\n",
      "AUC_ROC of SVM : 0.9928571428571429 +/- 0.013804600760498102\n"
     ]
    }
   ],
   "source": [
    "for label , values in zip(clf_labels,mean_std):\n",
    "    print('AUC_ROC of {} : {} +/- {}'.format(label,values[0],values[1]))"
   ]
  },
  {
   "cell_type": "code",
   "execution_count": 128,
   "metadata": {},
   "outputs": [],
   "source": [
    "Voting_clf = VotingClassifier(estimators=[('Pipe_Log',Pipe_Log),('clf2',clf2),\n",
    "                                          ('Pipe_Knn',Pipe_Knn),('Pipe_svc',Pipe_svc)],\n",
    "                                          voting='hard'\n",
    "                                         )"
   ]
  },
  {
   "cell_type": "code",
   "execution_count": 135,
   "metadata": {},
   "outputs": [],
   "source": [
    "y_pred = Voting_clf.predict(X_train)\n",
    "y_pred_bin = label_binarize(y_pred,classes=[0,1,2])"
   ]
  },
  {
   "cell_type": "code",
   "execution_count": 137,
   "metadata": {},
   "outputs": [],
   "source": [
    "voting_auc = []\n",
    "for i in range(3):\n",
    "    score = roc_auc_score(y_train_bin[:,i],y_pred_bin[:,i])\n",
    "    voting_auc.append(score)"
   ]
  },
  {
   "cell_type": "code",
   "execution_count": 140,
   "metadata": {},
   "outputs": [
    {
     "name": "stdout",
     "output_type": "stream",
     "text": [
      "0.9785714285714286\n"
     ]
    }
   ],
   "source": [
    "print(np.mean(voting_auc))"
   ]
  },
  {
   "cell_type": "code",
   "execution_count": null,
   "metadata": {},
   "outputs": [],
   "source": []
  }
 ],
 "metadata": {
  "kernelspec": {
   "display_name": "Python 3",
   "language": "python",
   "name": "python3"
  },
  "language_info": {
   "codemirror_mode": {
    "name": "ipython",
    "version": 3
   },
   "file_extension": ".py",
   "mimetype": "text/x-python",
   "name": "python",
   "nbconvert_exporter": "python",
   "pygments_lexer": "ipython3",
   "version": "3.7.3"
  }
 },
 "nbformat": 4,
 "nbformat_minor": 2
}
